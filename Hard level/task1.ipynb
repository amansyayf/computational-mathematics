{
 "cells": [
  {
   "cell_type": "code",
   "execution_count": 1,
   "metadata": {},
   "outputs": [],
   "source": [
    "import numpy as np"
   ]
  },
  {
   "cell_type": "markdown",
   "metadata": {},
   "source": []
  },
  {
   "cell_type": "code",
   "execution_count": 16,
   "metadata": {},
   "outputs": [
    {
     "name": "stdout",
     "output_type": "stream",
     "text": [
      "[[1 0 0]\n",
      " [0 1 0]]\n",
      "[[4 1]\n",
      " [2 2]]\n",
      "[[1 0 0 4 1]\n",
      " [0 1 0 2 2]]\n"
     ]
    }
   ],
   "source": [
    "a = np.array([[1, 0, 0], [0, 1, 0]])\n",
    "b = np.array([[4, 1], [2, 2]])\n",
    "\n",
    "print(a)\n",
    "print(b)\n",
    "print(np.hstack((a, b)))"
   ]
  },
  {
   "cell_type": "code",
   "execution_count": 61,
   "metadata": {},
   "outputs": [
    {
     "data": {
      "text/plain": [
       "array([[5, 6, 1, 1],\n",
       "       [6, 0, 5, 2],\n",
       "       [0, 1, 3, 4],\n",
       "       [0, 6, 4, 6]])"
      ]
     },
     "execution_count": 61,
     "metadata": {},
     "output_type": "execute_result"
    }
   ],
   "source": [
    "M = np.random.randint(0, 7, size = (4,4))\n",
    "M"
   ]
  },
  {
   "cell_type": "code",
   "execution_count": 62,
   "metadata": {},
   "outputs": [
    {
     "name": "stdout",
     "output_type": "stream",
     "text": [
      "[1 2 2 0 1]\n",
      "[2 1 3 2 1]\n",
      "[5 1 4 1 0]\n"
     ]
    }
   ],
   "source": [
    "a = np.random.randint(0, 4, size = (5, ))\n",
    "b = np.random.randint(0, 4, size = (5, ))\n",
    "\n",
    "print(a)\n",
    "print(b)\n",
    "print(M[a, b])"
   ]
  },
  {
   "cell_type": "code",
   "execution_count": 63,
   "metadata": {},
   "outputs": [
    {
     "data": {
      "text/plain": [
       "14"
      ]
     },
     "execution_count": 63,
     "metadata": {},
     "output_type": "execute_result"
    }
   ],
   "source": [
    "np.trace(M)"
   ]
  },
  {
   "cell_type": "code",
   "execution_count": 66,
   "metadata": {},
   "outputs": [
    {
     "name": "stdout",
     "output_type": "stream",
     "text": [
      "[5 0 3 6]\n",
      "3\n"
     ]
    }
   ],
   "source": [
    "print(np.diag(M))\n",
    "print(np.count_nonzero(np.diag(M)))"
   ]
  },
  {
   "cell_type": "code",
   "execution_count": 75,
   "metadata": {},
   "outputs": [],
   "source": [
    "a = np.random.randint(-5, 5, size = (4, 4))\n",
    "b = np.random.randint(-5, 5, size = (4, 4))"
   ]
  },
  {
   "cell_type": "code",
   "execution_count": 76,
   "metadata": {},
   "outputs": [
    {
     "name": "stdout",
     "output_type": "stream",
     "text": [
      "[[ 2 -2 -3 -2]\n",
      " [ 2  2  3 -3]\n",
      " [ 1  3 -5 -1]\n",
      " [-2  1 -3 -4]]\n",
      "[[ 4  1  0  3]\n",
      " [-5  4 -3 -5]\n",
      " [-5  4 -3 -2]\n",
      " [ 3  3 -4 -5]]\n",
      "[[ 4  0  0  0]\n",
      " [-5  4 -3  0]\n",
      " [-5  4  0  0]\n",
      " [ 0  3  0  0]]\n"
     ]
    }
   ],
   "source": [
    "print(a)\n",
    "print(b)\n",
    "\n",
    "b = np.where(a<0, 0, b)\n",
    "\n",
    "print(b)"
   ]
  },
  {
   "cell_type": "code",
   "execution_count": 80,
   "metadata": {},
   "outputs": [
    {
     "name": "stdout",
     "output_type": "stream",
     "text": [
      "[[ 2 -2 -3 -2]\n",
      " [ 2  2  3 -3]\n",
      " [ 1  3 -5 -1]\n",
      " [-2  1 -3 -4]]\n",
      "[ 0.75  1.   -2.   -2.5 ]\n"
     ]
    }
   ],
   "source": [
    "print(a)\n",
    "print(np.mean(a, axis = 0))"
   ]
  },
  {
   "cell_type": "code",
   "execution_count": 94,
   "metadata": {},
   "outputs": [
    {
     "data": {
      "text/plain": [
       "array([[0.],\n",
       "       [0.],\n",
       "       [0.],\n",
       "       [0.]])"
      ]
     },
     "execution_count": 94,
     "metadata": {},
     "output_type": "execute_result"
    }
   ],
   "source": [
    "np.zeros((4,1))"
   ]
  },
  {
   "cell_type": "code",
   "execution_count": 97,
   "metadata": {},
   "outputs": [
    {
     "name": "stdout",
     "output_type": "stream",
     "text": [
      "[[ 1.25 -3.   -1.    0.5   0.  ]\n",
      " [ 1.25  1.    5.   -0.5   0.  ]\n",
      " [ 0.25  2.   -3.    1.5   0.  ]\n",
      " [-2.75  0.   -1.   -1.5   0.  ]]\n"
     ]
    }
   ],
   "source": [
    "a = np.hstack((a - np.mean(a, axis = 0), np.zeros((4,1))))\n",
    "print(a)"
   ]
  },
  {
   "cell_type": "code",
   "execution_count": 98,
   "metadata": {},
   "outputs": [
    {
     "name": "stderr",
     "output_type": "stream",
     "text": [
      "<ipython-input-98-c8683cb73d01>:1: RuntimeWarning: invalid value encountered in true_divide\n",
      "  a = np.where(np.sum(a, axis = 0),a/np.sum(a*a, axis = 0), a)\n"
     ]
    }
   ],
   "source": [
    "a = np.where(np.sum(a, axis = 0),a/np.sum(a*a, axis = 0), a)"
   ]
  }
 ],
 "metadata": {
  "kernelspec": {
   "display_name": "Python 3",
   "language": "python",
   "name": "python3"
  },
  "language_info": {
   "codemirror_mode": {
    "name": "ipython",
    "version": 3
   },
   "file_extension": ".py",
   "mimetype": "text/x-python",
   "name": "python",
   "nbconvert_exporter": "python",
   "pygments_lexer": "ipython3",
   "version": "3.8.3"
  }
 },
 "nbformat": 4,
 "nbformat_minor": 4
}
