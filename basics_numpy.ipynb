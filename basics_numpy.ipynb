{
  "cells": [
    {
      "cell_type": "markdown",
      "metadata": {
        "id": "view-in-github",
        "colab_type": "text"
      },
      "source": [
        "<a href=\"https://colab.research.google.com/github/amansyayf/computational-mathematics_2022/blob/main/basics_numpy.ipynb\" target=\"_parent\"><img src=\"https://colab.research.google.com/assets/colab-badge.svg\" alt=\"Open In Colab\"/></a>"
      ]
    },
    {
      "cell_type": "code",
      "execution_count": 1,
      "metadata": {
        "id": "15LvpZgExoKp"
      },
      "outputs": [],
      "source": [
        "import numpy as np"
      ]
    },
    {
      "cell_type": "markdown",
      "metadata": {
        "id": "9wGgvipOxoKs"
      },
      "source": []
    },
    {
      "cell_type": "code",
      "execution_count": 2,
      "metadata": {
        "colab": {
          "base_uri": "https://localhost:8080/"
        },
        "id": "Wk-oaI2SxoKu",
        "outputId": "c616a037-91fd-4cca-c033-2682fe41846e"
      },
      "outputs": [
        {
          "output_type": "stream",
          "name": "stdout",
          "text": [
            "[[1 0 0]\n",
            " [0 1 0]]\n",
            "[[4 1]\n",
            " [2 2]]\n",
            "[[1 0 0 4 1]\n",
            " [0 1 0 2 2]]\n"
          ]
        }
      ],
      "source": [
        "a = np.array([[1, 0, 0], [0, 1, 0]])\n",
        "b = np.array([[4, 1], [2, 2]])\n",
        "\n",
        "print(a)\n",
        "print(b)\n",
        "print(np.hstack((a, b)))"
      ]
    },
    {
      "cell_type": "code",
      "execution_count": 3,
      "metadata": {
        "colab": {
          "base_uri": "https://localhost:8080/"
        },
        "id": "G3VRt8VQxoKx",
        "outputId": "9b53122a-a3a7-4539-a004-ebcff050ba33"
      },
      "outputs": [
        {
          "output_type": "execute_result",
          "data": {
            "text/plain": [
              "array([[3, 2, 3, 3],\n",
              "       [2, 2, 1, 4],\n",
              "       [0, 4, 0, 4],\n",
              "       [1, 5, 2, 5]])"
            ]
          },
          "metadata": {},
          "execution_count": 3
        }
      ],
      "source": [
        "M = np.random.randint(0, 7, size = (4,4))\n",
        "M"
      ]
    },
    {
      "cell_type": "code",
      "execution_count": 4,
      "metadata": {
        "colab": {
          "base_uri": "https://localhost:8080/"
        },
        "id": "egFTo257xoKy",
        "outputId": "bc7de76f-c544-490c-d0f3-53208ffd3f35"
      },
      "outputs": [
        {
          "output_type": "stream",
          "name": "stdout",
          "text": [
            "[3 1 1 3 0]\n",
            "[1 3 2 2 3]\n",
            "[5 4 1 2 3]\n"
          ]
        }
      ],
      "source": [
        "a = np.random.randint(0, 4, size = (5, ))\n",
        "b = np.random.randint(0, 4, size = (5, ))\n",
        "\n",
        "print(a)\n",
        "print(b)\n",
        "print(M[a, b])"
      ]
    },
    {
      "cell_type": "code",
      "execution_count": 5,
      "metadata": {
        "colab": {
          "base_uri": "https://localhost:8080/"
        },
        "id": "fxvYfPZxxoKz",
        "outputId": "303afad0-ba1d-4832-abc4-5df5b68b06e3"
      },
      "outputs": [
        {
          "output_type": "execute_result",
          "data": {
            "text/plain": [
              "10"
            ]
          },
          "metadata": {},
          "execution_count": 5
        }
      ],
      "source": [
        "np.trace(M)"
      ]
    },
    {
      "cell_type": "code",
      "execution_count": 6,
      "metadata": {
        "colab": {
          "base_uri": "https://localhost:8080/"
        },
        "id": "-r9DXQOWxoKz",
        "outputId": "f3053f7b-71f7-4686-bda9-3870a110f06a"
      },
      "outputs": [
        {
          "output_type": "stream",
          "name": "stdout",
          "text": [
            "[3 2 0 5]\n",
            "3\n"
          ]
        }
      ],
      "source": [
        "print(np.diag(M))\n",
        "print(np.count_nonzero(np.diag(M)))"
      ]
    },
    {
      "cell_type": "code",
      "execution_count": 7,
      "metadata": {
        "id": "HpRvmnACxoK0"
      },
      "outputs": [],
      "source": [
        "a = np.random.randint(-5, 5, size = (4, 4))\n",
        "b = np.random.randint(-5, 5, size = (4, 4))"
      ]
    },
    {
      "cell_type": "code",
      "execution_count": 8,
      "metadata": {
        "colab": {
          "base_uri": "https://localhost:8080/"
        },
        "id": "FyVqwM7CxoK0",
        "outputId": "802e9efc-3b9d-4fc8-9377-9583932a6ce5"
      },
      "outputs": [
        {
          "output_type": "stream",
          "name": "stdout",
          "text": [
            "[[-2  4  3  4]\n",
            " [ 3  4  0  1]\n",
            " [-5  3  2 -2]\n",
            " [ 1 -4  2  4]]\n",
            "[[-1 -4 -3 -4]\n",
            " [-1 -3  3 -5]\n",
            " [ 2  3  3  1]\n",
            " [ 2  4  3 -3]]\n",
            "[[ 0 -4 -3 -4]\n",
            " [-1 -3  3 -5]\n",
            " [ 0  3  3  0]\n",
            " [ 2  0  3 -3]]\n"
          ]
        }
      ],
      "source": [
        "print(a)\n",
        "print(b)\n",
        "\n",
        "b = np.where(a<0, 0, b)\n",
        "\n",
        "print(b)"
      ]
    },
    {
      "cell_type": "code",
      "execution_count": 9,
      "metadata": {
        "colab": {
          "base_uri": "https://localhost:8080/"
        },
        "id": "SRoqZTAGxoK1",
        "outputId": "ae9c8fa0-f36a-48f1-f15c-ff2f78439cf1"
      },
      "outputs": [
        {
          "output_type": "stream",
          "name": "stdout",
          "text": [
            "[[-2  4  3  4]\n",
            " [ 3  4  0  1]\n",
            " [-5  3  2 -2]\n",
            " [ 1 -4  2  4]]\n",
            "[-0.75  1.75  1.75  1.75]\n"
          ]
        }
      ],
      "source": [
        "print(a)\n",
        "print(np.mean(a, axis = 0))"
      ]
    },
    {
      "cell_type": "code",
      "execution_count": 10,
      "metadata": {
        "colab": {
          "base_uri": "https://localhost:8080/"
        },
        "id": "-0yvYvatxoK2",
        "outputId": "37008816-7f86-47a2-8aa6-49069ff6160e"
      },
      "outputs": [
        {
          "output_type": "execute_result",
          "data": {
            "text/plain": [
              "array([[0.],\n",
              "       [0.],\n",
              "       [0.],\n",
              "       [0.]])"
            ]
          },
          "metadata": {},
          "execution_count": 10
        }
      ],
      "source": [
        "np.zeros((4,1))"
      ]
    },
    {
      "cell_type": "code",
      "execution_count": 11,
      "metadata": {
        "colab": {
          "base_uri": "https://localhost:8080/"
        },
        "id": "TH-rBTepxoK3",
        "outputId": "6302b59a-4268-488e-8b50-a9f25426c81b"
      },
      "outputs": [
        {
          "output_type": "stream",
          "name": "stdout",
          "text": [
            "[[-1.25  2.25  1.25  2.25  0.  ]\n",
            " [ 3.75  2.25 -1.75 -0.75  0.  ]\n",
            " [-4.25  1.25  0.25 -3.75  0.  ]\n",
            " [ 1.75 -5.75  0.25  2.25  0.  ]]\n"
          ]
        }
      ],
      "source": [
        "a = np.hstack((a - np.mean(a, axis = 0), np.zeros((4,1))))\n",
        "print(a)"
      ]
    },
    {
      "cell_type": "code",
      "execution_count": 12,
      "metadata": {
        "colab": {
          "base_uri": "https://localhost:8080/"
        },
        "id": "tvjvB30QxoK4",
        "outputId": "46897d51-9f4c-4181-d22c-7c1cc39aa242"
      },
      "outputs": [
        {
          "output_type": "stream",
          "name": "stdout",
          "text": [
            "[[-0.03401361  0.05027933  0.26315789  0.09090909  0.        ]\n",
            " [ 0.10204082  0.05027933 -0.36842105 -0.03030303  0.        ]\n",
            " [-0.11564626  0.02793296  0.05263158 -0.15151515  0.        ]\n",
            " [ 0.04761905 -0.12849162  0.05263158  0.09090909  0.        ]]\n"
          ]
        },
        {
          "output_type": "stream",
          "name": "stderr",
          "text": [
            "<ipython-input-12-9f946e196325>:1: RuntimeWarning: invalid value encountered in true_divide\n",
            "  print(np.where(np.sum(a*a, axis = 0) ==0, a, a/np.sum(a*a, axis = 0)))\n"
          ]
        }
      ],
      "source": [
        "\n",
        "print(np.where(np.sum(a*a, axis = 0) ==0, a, a/np.sum(a*a, axis = 0)))"
      ]
    },
    {
      "cell_type": "code",
      "execution_count": 13,
      "metadata": {
        "colab": {
          "base_uri": "https://localhost:8080/"
        },
        "id": "dwC-ado4xoK4",
        "outputId": "a4215102-a267-4c5f-d6ba-ed4f1317d708"
      },
      "outputs": [
        {
          "output_type": "stream",
          "name": "stdout",
          "text": [
            "[[16 19]\n",
            " [21 52]]\n",
            "[[17 25  9]\n",
            " [26 37  8]\n",
            " [14 22 14]]\n"
          ]
        }
      ],
      "source": [
        "matrix1 = np.array([[2, 3], [1, 5], [4, 2]])\n",
        "matrix2 = np.array([[1, 5], [2, 7], [3, 1]])\n",
        "matrix2 = matrix2.T\n",
        "M = np.dot(matrix2, matrix1)\n",
        "print(M)\n",
        "print(np.dot(matrix1, matrix2))"
      ]
    },
    {
      "cell_type": "code",
      "execution_count": 14,
      "metadata": {
        "id": "Dz4gKQLrxoK5"
      },
      "outputs": [],
      "source": [
        "from matplotlib import pyplot as plt\n",
        "import time"
      ]
    },
    {
      "cell_type": "code",
      "execution_count": 15,
      "metadata": {
        "id": "MBEwPTpgxoK5"
      },
      "outputs": [],
      "source": [
        "def f1(n):\n",
        "    list1 = np.random.normal(size=(n,n))\n",
        "    list2 = np.random.normal(size=(n,n))\n",
        "\n",
        "    initial_time = time.time()\n",
        "\n",
        "    result_list = [(a * b) for a, b in zip(list1, list2)]\n",
        "    \n",
        "    result = [[0]*n]*n\n",
        "\n",
        "    for i in range(len(list1)):\n",
        "        for j in range(len(list2[0])):\n",
        "            for k in range(len(list2)):\n",
        "                result[i][j] += list1[i][k] * list2[k][j]\n",
        "                \n",
        "    list_time = time.time() - initial_time\n",
        "\n",
        "    return(list_time)"
      ]
    },
    {
      "cell_type": "code",
      "execution_count": 16,
      "metadata": {
        "id": "I1j2WGlLxoK6"
      },
      "outputs": [],
      "source": [
        "def f2(n):\n",
        "    list1 = np.random.normal(size=(n,n))\n",
        "    list2 = np.random.normal(size=(n,n))\n",
        "\n",
        "    initial_time = time.time()\n",
        "\n",
        "    result_list = np.dot(list1, list2)\n",
        "    list_time = time.time() - initial_time\n",
        "\n",
        "    return(list_time)"
      ]
    },
    {
      "cell_type": "code",
      "execution_count": 17,
      "metadata": {
        "id": "Ik_Ip3cNxoK6"
      },
      "outputs": [],
      "source": [
        "x = np.arange(0, 200, 10)\n",
        "y1 = list(map(f1, x))\n",
        "y2 = list(map(f2, x))\n",
        "\n"
      ]
    },
    {
      "cell_type": "code",
      "execution_count": 18,
      "metadata": {
        "colab": {
          "base_uri": "https://localhost:8080/",
          "height": 334
        },
        "id": "pkqRr-NGxoK6",
        "outputId": "1bf4ba96-c330-4994-9463-293e32f4ab1e"
      },
      "outputs": [
        {
          "output_type": "display_data",
          "data": {
            "text/plain": [
              "<Figure size 360x360 with 1 Axes>"
            ],
            "image/png": "[encoded data removed]"
          },
          "metadata": {
            "needs_background": "light"
          }
        }
      ],
      "source": [
        "plt.figure(figsize=(5,5))\n",
        "\n",
        "plt.plot(x, y1, label='usual python')\n",
        "\n",
        "plt.plot(x, y2, c='green', label='numpy')\n",
        "\n",
        "\n",
        "plt.xlim(0, 200)\n",
        "plt.xlabel('n')\n",
        "plt.ylabel('t')\n",
        "plt.legend()\n",
        "plt.show()"
      ]
    },
    {
      "cell_type": "code",
      "execution_count": 19,
      "metadata": {
        "colab": {
          "base_uri": "https://localhost:8080/",
          "height": 662
        },
        "id": "oZigFJqaxoK7",
        "outputId": "8a026731-6cb5-46d8-dca2-dd5f80257ab1"
      },
      "outputs": [
        {
          "output_type": "display_data",
          "data": {
            "text/plain": [
              "<Figure size 504x792 with 4 Axes>"
            ],
            "image/png": "[encoded data removed]"
          },
          "metadata": {
            "needs_background": "light"
          }
        }
      ],
      "source": [
        "plt.figure(figsize=(7,11))\n",
        "\n",
        "plt.subplot(2, 2, 1)\n",
        "plt.plot(x[: 99], y1[: 99])\n",
        "plt.title(\"1\")\n",
        "\n",
        "plt.subplot(2, 2, 2)\n",
        "plt.plot(x[99: 199], y1[99: 199])\n",
        "plt.title(\"2\")\n",
        "\n",
        "plt.subplot(2, 2, 3)\n",
        "plt.plot(x[199: 299], y1[199: 299])\n",
        "plt.title(\"3\")\n",
        "\n",
        "plt.subplot(2, 2, 4)\n",
        "plt.plot(x[: 99], y2[: 99])\n",
        "plt.title(\"4\")\n",
        "\n",
        "plt.show()"
      ]
    },
    {
      "cell_type": "code",
      "execution_count": 20,
      "metadata": {
        "id": "lF3Sso64xoK7"
      },
      "outputs": [],
      "source": [
        "l = np.array([2.01,3.97,5.97,7.97,9.99,11.98,13.97,15.98])\n",
        "N = np.array([2.173642515, 3.73316283, 6.16674165, 9.951213328, 15.87939692, 24.71561541, 38.68014877, 60.51964804 ])"
      ]
    },
    {
      "cell_type": "code",
      "execution_count": 21,
      "metadata": {
        "colab": {
          "base_uri": "https://localhost:8080/",
          "height": 350
        },
        "id": "u2zv4gG0xoK8",
        "outputId": "55f19806-0e35-4202-e2e0-927698b21d68"
      },
      "outputs": [
        {
          "output_type": "display_data",
          "data": {
            "text/plain": [
              "<Figure size 360x360 with 1 Axes>"
            ],
            "image/png": "[encoded data removed]"
          },
          "metadata": {
            "needs_background": "light"
          }
        }
      ],
      "source": [
        "plt.figure(figsize=(5,5))\n",
        "plt.title('Cosine and sine graph')\n",
        "\n",
        "plt.plot(l, N, label='graf')\n",
        "\n",
        "xerr = np.random.random_sample(8) * 1\n",
        "yerr = np.ones(len(l))\n",
        "\n",
        "plt.xlim(0, 18)\n",
        "plt.ylim(0, 64)\n",
        "plt.xlabel('x')\n",
        "plt.ylabel('y')\n",
        "plt.errorbar(l, N, xerr=xerr, yerr=yerr, fmt=' ', ecolor='red')\n",
        "plt.legend()\n",
        "plt.show()"
      ]
    },
    {
      "cell_type": "code",
      "execution_count": 22,
      "metadata": {
        "id": "VSdeFkPyxoK9"
      },
      "outputs": [],
      "source": [
        "def least_squares(x, y):\n",
        "    \n",
        "    \n",
        "    # Для метода наименьших квадратов нам нужно, чтобы X был матрицей,\n",
        "    # в которой первый столбец - единицы, а второй - x координаты точек\n",
        "    X = np.vstack((np.ones(x.shape[0]), x)).T\n",
        "    normal_matrix = np.dot(X.T, X)\n",
        "    moment_matrix = np.dot(X.T, y)\n",
        "   # beta_hat это вектор [перехват, наклон], рассчитываем его в\n",
        "   # в соответствии с формулой.\n",
        "    beta_hat = np.dot(np.linalg.inv(normal_matrix), moment_matrix)\n",
        "    intercept = beta_hat[0]\n",
        "    slope = beta_hat[1]\n",
        "   # Теперь, когда мы знаем параметры прямой, мы можем\n",
        "   # легко вычислить y координаты точек на прямой.\n",
        "    return intercept, slope"
      ]
    },
    {
      "cell_type": "code",
      "execution_count": 23,
      "metadata": {
        "id": "fcPnZg2qxoK9"
      },
      "outputs": [],
      "source": [
        "xnew = np.linspace(0, 16, 100)\n",
        "a, b = least_squares(l, N)\n",
        "ynew = a + b*xnew"
      ]
    },
    {
      "cell_type": "code",
      "execution_count": 24,
      "metadata": {
        "colab": {
          "base_uri": "https://localhost:8080/",
          "height": 334
        },
        "id": "mcBsF1qyxoK-",
        "outputId": "9bb62e8b-4a2a-4ed5-c72c-e176dbc5eda8"
      },
      "outputs": [
        {
          "output_type": "display_data",
          "data": {
            "text/plain": [
              "<Figure size 360x360 with 1 Axes>"
            ],
            "image/png": "[encoded data removed]"
          },
          "metadata": {
            "needs_background": "light"
          }
        }
      ],
      "source": [
        "from cmath import e\n",
        "\n",
        "plt.figure(figsize=(5,5))\n",
        "\n",
        "plt.errorbar(l, N, xerr=xerr, fmt = ' ', capsize=4, ecolor='red')\n",
        "\n",
        "plt.plot( xnew, ynew, c='blue', label='Aprox')\n",
        "\n",
        "plt.plot(l, N, label='graf')\n",
        "\n",
        "# plt.yscale('log', base=e)\n",
        "\n",
        "\n",
        "\n",
        "plt.xlabel('x')\n",
        "plt.ylabel('y')\n",
        "plt.legend()\n",
        "plt.show()"
      ]
    },
    {
      "cell_type": "code",
      "execution_count": 25,
      "metadata": {
        "id": "_S_UVcluxoK-"
      },
      "outputs": [],
      "source": [
        "def func():\n",
        "    random_matrix = np.random.normal(size=(1000, 1000))\n",
        "    random_matrix = random_matrix + random_matrix.T\n",
        "\n",
        "    eigvals = np.linalg.eigvals(random_matrix)\n",
        "\n",
        "    matrix, _ = np.histogram(eigvals, bins=np.arange(-100, 101, 5))\n",
        "\n",
        "    for _ in range(50):\n",
        "        random_matrix = np.random.normal(size=(1000, 1000))\n",
        "        random_matrix = random_matrix + random_matrix.T\n",
        "\n",
        "        eigvals = np.linalg.eigvals(random_matrix)\n",
        "\n",
        "        height_bins, _ = np.histogram(eigvals, bins=np.arange(-100, 101, 5))\n",
        "\n",
        "        matrix = np.vstack((matrix, height_bins))\n",
        "\n",
        "    return matrix"
      ]
    },
    {
      "cell_type": "code",
      "execution_count": 26,
      "metadata": {
        "colab": {
          "base_uri": "https://localhost:8080/"
        },
        "id": "oy0GQALnxoK_",
        "outputId": "6621a3d4-5e2c-4451-96e6-65ddd34e3745"
      },
      "outputs": [
        {
          "output_type": "stream",
          "name": "stdout",
          "text": [
            "[0 1 3 4 4 4 5 4 4 4 5 4 4 4 5 7 4 5 4 4 5 4 5 4 4 5 5 4 3 4 5 6 5 5 5 4 4\n",
            " 2 0 0]\n"
          ]
        }
      ],
      "source": [
        "mat = func()\n",
        "print(np.amax(mat, axis=0) - np.amin(mat, axis=0))"
      ]
    },
    {
      "cell_type": "code",
      "execution_count": 27,
      "metadata": {
        "id": "vryHJY32xoLA"
      },
      "outputs": [],
      "source": [
        "y = np.amax(mat, axis=0) - np.amin(mat, axis=0)"
      ]
    },
    {
      "cell_type": "code",
      "execution_count": 28,
      "metadata": {
        "colab": {
          "base_uri": "https://localhost:8080/",
          "height": 338
        },
        "id": "1LUBwWvNxoLA",
        "outputId": "4ead98f6-d1ca-477c-e43e-c3e5a82745a6"
      },
      "outputs": [
        {
          "output_type": "execute_result",
          "data": {
            "text/plain": [
              "[<matplotlib.lines.Line2D at 0x7f788c7efb80>]"
            ]
          },
          "metadata": {},
          "execution_count": 28
        },
        {
          "output_type": "display_data",
          "data": {
            "text/plain": [
              "<Figure size 360x360 with 1 Axes>"
            ],
            "image/png": "[encoded data removed]"
          },
          "metadata": {
            "needs_background": "light"
          }
        }
      ],
      "source": [
        "plt.figure(figsize=(5,5))\n",
        "x = np.arange(-100, 100, 5)\n",
        "plt.plot(x, y, c='blue')"
      ]
    },
    {
      "cell_type": "code",
      "execution_count": null,
      "metadata": {
        "id": "f-gcF-CBxoLC"
      },
      "outputs": [],
      "source": []
    }
  ],
  "metadata": {
    "kernelspec": {
      "display_name": "Python 3 (ipykernel)",
      "language": "python",
      "name": "python3"
    },
    "language_info": {
      "codemirror_mode": {
        "name": "ipython",
        "version": 3
      },
      "file_extension": ".py",
      "mimetype": "text/x-python",
      "name": "python",
      "nbconvert_exporter": "python",
      "pygments_lexer": "ipython3",
      "version": "3.10.6"
    },
    "vscode": {
      "interpreter": {
        "hash": "52d90d3cc821dd0beedd6e719dbdecc722c226b9d90ed1b663c34e1877f1142e"
      }
    },
    "colab": {
      "provenance": [],
      "include_colab_link": true
    }
  },
  "nbformat": 4,
  "nbformat_minor": 0
}