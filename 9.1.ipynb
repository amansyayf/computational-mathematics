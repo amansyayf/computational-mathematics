{
  "cells": [
    {
      "cell_type": "markdown",
      "metadata": {
        "id": "view-in-github",
        "colab_type": "text"
      },
      "source": [
        "<a href=\"https://colab.research.google.com/github/amansyayf/computational-mathematics_2022/blob/main/9.1.ipynb\" target=\"_parent\"><img src=\"https://colab.research.google.com/assets/colab-badge.svg\" alt=\"Open In Colab\"/></a>"
      ]
    },
    {
      "cell_type": "code",
      "execution_count": null,
      "metadata": {
        "id": "YLDRYNh8BEyq"
      },
      "outputs": [],
      "source": [
        "import math \n",
        "import pandas as pd\n",
        "import numpy as np\n",
        "from sklearn.decomposition import pca\n",
        "\n",
        "\n",
        "def count_exp(x):\n",
        "    sum = np.float32(1.0)\n",
        "    term = np.float32(1.0)\n",
        "    i = 1\n",
        "    while sum!=sum+term:\n",
        "        term = np.float32(term*x/i)\n",
        "        sum = np.float32(sum+term)\n",
        "        i += 1\n",
        "    return sum\n"
      ]
    },
    {
      "cell_type": "code",
      "execution_count": null,
      "metadata": {
        "id": "VQ7EsIYCBEyt"
      },
      "outputs": [],
      "source": [
        "def better_count_exp(x):\n",
        "    if x >= 0:\n",
        "        sum = count_exp(x)\n",
        "    else:\n",
        "        sum = 1/count_exp(-x)\n",
        "    return sum\n",
        "\n",
        "            "
      ]
    },
    {
      "cell_type": "code",
      "execution_count": null,
      "metadata": {
        "id": "RZImwZYoBEyu",
        "outputId": "d20d61bd-fabc-433d-b371-841f0287732a"
      },
      "outputs": [
        {
          "data": {
            "text/html": [
              "<div>\n",
              "<style scoped>\n",
              "    .dataframe tbody tr th:only-of-type {\n",
              "        vertical-align: middle;\n",
              "    }\n",
              "\n",
              "    .dataframe tbody tr th {\n",
              "        vertical-align: top;\n",
              "    }\n",
              "\n",
              "    .dataframe thead th {\n",
              "        text-align: right;\n",
              "    }\n",
              "</style>\n",
              "<table border=\"1\" class=\"dataframe\">\n",
              "  <thead>\n",
              "    <tr style=\"text-align: right;\">\n",
              "      <th></th>\n",
              "      <th>exp(x)</th>\n",
              "      <th>count_exp(x)</th>\n",
              "      <th>better_count_exp(x)</th>\n",
              "    </tr>\n",
              "  </thead>\n",
              "  <tbody>\n",
              "    <tr>\n",
              "      <th>1</th>\n",
              "      <td>2.718282e+00</td>\n",
              "      <td>2.718282e+00</td>\n",
              "      <td>2.718282e+00</td>\n",
              "    </tr>\n",
              "    <tr>\n",
              "      <th>5</th>\n",
              "      <td>1.484132e+02</td>\n",
              "      <td>1.484132e+02</td>\n",
              "      <td>1.484132e+02</td>\n",
              "    </tr>\n",
              "    <tr>\n",
              "      <th>10</th>\n",
              "      <td>2.202647e+04</td>\n",
              "      <td>2.202647e+04</td>\n",
              "      <td>2.202647e+04</td>\n",
              "    </tr>\n",
              "    <tr>\n",
              "      <th>15</th>\n",
              "      <td>3.269017e+06</td>\n",
              "      <td>3.269018e+06</td>\n",
              "      <td>3.269018e+06</td>\n",
              "    </tr>\n",
              "    <tr>\n",
              "      <th>20</th>\n",
              "      <td>4.851652e+08</td>\n",
              "      <td>4.851653e+08</td>\n",
              "      <td>4.851653e+08</td>\n",
              "    </tr>\n",
              "    <tr>\n",
              "      <th>25</th>\n",
              "      <td>7.200490e+10</td>\n",
              "      <td>7.200491e+10</td>\n",
              "      <td>7.200491e+10</td>\n",
              "    </tr>\n",
              "    <tr>\n",
              "      <th>-1</th>\n",
              "      <td>3.678794e-01</td>\n",
              "      <td>3.678794e-01</td>\n",
              "      <td>3.678794e-01</td>\n",
              "    </tr>\n",
              "    <tr>\n",
              "      <th>-5</th>\n",
              "      <td>6.737947e-03</td>\n",
              "      <td>6.737461e-03</td>\n",
              "      <td>6.737946e-03</td>\n",
              "    </tr>\n",
              "    <tr>\n",
              "      <th>-10</th>\n",
              "      <td>4.539993e-05</td>\n",
              "      <td>-7.265709e-05</td>\n",
              "      <td>4.539992e-05</td>\n",
              "    </tr>\n",
              "    <tr>\n",
              "      <th>-15</th>\n",
              "      <td>3.059023e-07</td>\n",
              "      <td>9.356809e-03</td>\n",
              "      <td>3.059023e-07</td>\n",
              "    </tr>\n",
              "    <tr>\n",
              "      <th>-20</th>\n",
              "      <td>2.061154e-09</td>\n",
              "      <td>7.566841e-01</td>\n",
              "      <td>2.061153e-09</td>\n",
              "    </tr>\n",
              "    <tr>\n",
              "      <th>-25</th>\n",
              "      <td>1.388794e-11</td>\n",
              "      <td>1.248796e+02</td>\n",
              "      <td>1.388794e-11</td>\n",
              "    </tr>\n",
              "  </tbody>\n",
              "</table>\n",
              "</div>"
            ],
            "text/plain": [
              "           exp(x)  count_exp(x)  better_count_exp(x)\n",
              " 1   2.718282e+00  2.718282e+00         2.718282e+00\n",
              " 5   1.484132e+02  1.484132e+02         1.484132e+02\n",
              " 10  2.202647e+04  2.202647e+04         2.202647e+04\n",
              " 15  3.269017e+06  3.269018e+06         3.269018e+06\n",
              " 20  4.851652e+08  4.851653e+08         4.851653e+08\n",
              " 25  7.200490e+10  7.200491e+10         7.200491e+10\n",
              "-1   3.678794e-01  3.678794e-01         3.678794e-01\n",
              "-5   6.737947e-03  6.737461e-03         6.737946e-03\n",
              "-10  4.539993e-05 -7.265709e-05         4.539992e-05\n",
              "-15  3.059023e-07  9.356809e-03         3.059023e-07\n",
              "-20  2.061154e-09  7.566841e-01         2.061153e-09\n",
              "-25  1.388794e-11  1.248796e+02         1.388794e-11"
            ]
          },
          "execution_count": 113,
          "metadata": {},
          "output_type": "execute_result"
        }
      ],
      "source": [
        "array1 = np.array([1, 5, 10, 15, 20 , 25, -1, -5, -10, -15, -20, -25])\n",
        "array2 = np.exp(array1)\n",
        "array3 = list(map(count_exp, array1))\n",
        "array4 = list(map(better_count_exp, array1))\n",
        "df = pd.DataFrame({'exp(x)':array2, 'count_exp(x)':array3, 'better_count_exp(x)':array4})\n",
        "df.index = array1\n",
        "df"
      ]
    },
    {
      "cell_type": "code",
      "execution_count": null,
      "metadata": {
        "id": "wGNmXyjXBEyu"
      },
      "outputs": [],
      "source": []
    }
  ],
  "metadata": {
    "kernelspec": {
      "display_name": "Python 3",
      "language": "python",
      "name": "python3"
    },
    "language_info": {
      "codemirror_mode": {
        "name": "ipython",
        "version": 3
      },
      "file_extension": ".py",
      "mimetype": "text/x-python",
      "name": "python",
      "nbconvert_exporter": "python",
      "pygments_lexer": "ipython3",
      "version": "3.8.3"
    },
    "colab": {
      "provenance": [],
      "include_colab_link": true
    }
  },
  "nbformat": 4,
  "nbformat_minor": 0
}