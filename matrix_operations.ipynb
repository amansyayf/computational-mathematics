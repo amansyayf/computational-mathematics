{
  "cells": [
    {
      "cell_type": "markdown",
      "metadata": {
        "id": "view-in-github",
        "colab_type": "text"
      },
      "source": [
        "<a href=\"https://colab.research.google.com/github/amansyayf/computational-mathematics_2022/blob/main/matrix_operations.ipynb\" target=\"_parent\"><img src=\"https://colab.research.google.com/assets/colab-badge.svg\" alt=\"Open In Colab\"/></a>"
      ]
    },
    {
      "cell_type": "markdown",
      "metadata": {
        "id": "MeXTSdSfKdL2"
      },
      "source": [
        "## *Задача 1.  Генератор матриц* \n"
      ]
    },
    {
      "cell_type": "markdown",
      "metadata": {
        "id": "19smb2owQS40"
      },
      "source": [
        "Реализовать генератор матрциц, который должен поддерживать функции:\n",
        "* Генерация абсолютно случайной матрицы $n\\times m$\n",
        "* Генерация случайной диагональной матрицы $n\\times n$\n",
        "* Генерация случайной верхнетреугольной матрицы\n",
        "* Генерация случайной нижнетреугольной матрицы\n",
        "* Генерация симметричной матрицы\n",
        "* Генерация вырожденной матрицы\n",
        "* Генерация матрицы ступенчатого вида $n\\times n$ ранга $m$\n",
        "* Генерация возмущения матрицы $n\\times m$, каждый элемент которой не превосходит по модулю заданный $\\varepsilon$\n",
        "\n",
        "Оценить вероятность того, что созданная матрица будет вырожденной. \n",
        "\n",
        "Оценить величину нормы матрицы возмущений в зависимости от параметра $\\varepsilon$ (оценить верхную границу).\n"
      ]
    },
    {
      "cell_type": "markdown",
      "metadata": {
        "id": "njKui7YpB8W3"
      },
      "source": [
        "**Решение:**\n",
        "1) Генерация абсолютно случайной матрицы  $n\\times m$ :"
      ]
    },
    {
      "cell_type": "code",
      "execution_count": 1,
      "metadata": {
        "colab": {
          "base_uri": "https://localhost:8080/"
        },
        "id": "74Ubla-_B8W4",
        "outputId": "80b10d9e-25fe-42ab-c4b1-87ed168e5108"
      },
      "outputs": [
        {
          "output_type": "execute_result",
          "data": {
            "text/plain": [
              "array([[0.73517819, 0.76921328, 0.05643537, 0.34261195],\n",
              "       [0.12167221, 0.5099003 , 0.21617108, 0.44643344],\n",
              "       [0.61374773, 0.41477862, 0.39477656, 0.50683854]])"
            ]
          },
          "metadata": {},
          "execution_count": 1
        }
      ],
      "source": [
        "import numpy as np\n",
        "def full_random_matrix(n,m):\n",
        "    return np.random.rand(n,m)\n",
        "full_random_matrix(3, 4)"
      ]
    },
    {
      "cell_type": "markdown",
      "metadata": {
        "id": "_pjW-nRWB8W5"
      },
      "source": [
        "2) Генерация случайной диагональной матрицы  $n\\times n$ :"
      ]
    },
    {
      "cell_type": "code",
      "execution_count": 2,
      "metadata": {
        "colab": {
          "base_uri": "https://localhost:8080/"
        },
        "id": "1I6ifL73B8W6",
        "outputId": "4cc9682b-0af5-4839-e98f-e5e59477f9e0"
      },
      "outputs": [
        {
          "output_type": "execute_result",
          "data": {
            "text/plain": [
              "array([[0.40403501, 0.        , 0.        , 0.        ],\n",
              "       [0.        , 0.36205169, 0.        , 0.        ],\n",
              "       [0.        , 0.        , 0.84947601, 0.        ],\n",
              "       [0.        , 0.        , 0.        , 0.11048462]])"
            ]
          },
          "metadata": {},
          "execution_count": 2
        }
      ],
      "source": [
        "def diagonal_random_matrix(n):\n",
        "    return np.diag(np.random.rand(n))\n",
        "diagonal_random_matrix(4)"
      ]
    },
    {
      "cell_type": "markdown",
      "metadata": {
        "id": "e6IwMZ7IB8W6"
      },
      "source": [
        "3) Генерация случайной верхнетреугольной матрицы:"
      ]
    },
    {
      "cell_type": "code",
      "execution_count": 3,
      "metadata": {
        "colab": {
          "base_uri": "https://localhost:8080/"
        },
        "id": "2pS0LK8jB8W7",
        "outputId": "ed20392e-6ee4-4f7d-ffeb-fb14cb5a230b"
      },
      "outputs": [
        {
          "output_type": "execute_result",
          "data": {
            "text/plain": [
              "array([[1.09564940e-01, 1.10712940e-01, 1.90410355e-01, 8.56383893e-01,\n",
              "        1.60819689e-01, 3.71822193e-01, 6.89003304e-01, 9.08322635e-01],\n",
              "       [0.00000000e+00, 7.76076172e-01, 4.47255956e-01, 7.97708337e-01,\n",
              "        9.06858041e-01, 1.06502982e-01, 9.36361772e-02, 7.70350052e-01],\n",
              "       [0.00000000e+00, 0.00000000e+00, 9.48228026e-01, 6.36537282e-01,\n",
              "        5.90843782e-01, 4.81721336e-01, 3.04450220e-01, 4.30826492e-01],\n",
              "       [0.00000000e+00, 0.00000000e+00, 0.00000000e+00, 4.11088933e-01,\n",
              "        1.43713565e-01, 8.57077641e-04, 3.68343670e-01, 9.42408381e-01],\n",
              "       [0.00000000e+00, 0.00000000e+00, 0.00000000e+00, 0.00000000e+00,\n",
              "        3.70052378e-01, 4.99788696e-01, 4.83242667e-01, 9.78892887e-01],\n",
              "       [0.00000000e+00, 0.00000000e+00, 0.00000000e+00, 0.00000000e+00,\n",
              "        0.00000000e+00, 3.14184283e-01, 5.31148353e-01, 4.58313006e-01],\n",
              "       [0.00000000e+00, 0.00000000e+00, 0.00000000e+00, 0.00000000e+00,\n",
              "        0.00000000e+00, 0.00000000e+00, 9.15103696e-01, 3.18192010e-01],\n",
              "       [0.00000000e+00, 0.00000000e+00, 0.00000000e+00, 0.00000000e+00,\n",
              "        0.00000000e+00, 0.00000000e+00, 0.00000000e+00, 9.12805100e-01]])"
            ]
          },
          "metadata": {},
          "execution_count": 3
        }
      ],
      "source": [
        "def random_upper_triangular_matrix():\n",
        "    N = np.random.randint(low = 1, high = 10)\n",
        "    return np.triu(np.random.rand(N, N))\n",
        "random_upper_triangular_matrix()"
      ]
    },
    {
      "cell_type": "markdown",
      "metadata": {
        "id": "yg0Gfa-LB8W7"
      },
      "source": [
        "4) Генерация случайной нижнетреугольной матрицы:"
      ]
    },
    {
      "cell_type": "code",
      "execution_count": 4,
      "metadata": {
        "colab": {
          "base_uri": "https://localhost:8080/"
        },
        "id": "oar_uXWJB8W8",
        "outputId": "6992e752-e60a-4717-a833-da0467870dc8"
      },
      "outputs": [
        {
          "output_type": "execute_result",
          "data": {
            "text/plain": [
              "array([[0.83074756, 0.        , 0.        , 0.        , 0.        ,\n",
              "        0.        , 0.        , 0.        , 0.        ],\n",
              "       [0.91041584, 0.03445511, 0.        , 0.        , 0.        ,\n",
              "        0.        , 0.        , 0.        , 0.        ],\n",
              "       [0.47707635, 0.92366036, 0.35532345, 0.        , 0.        ,\n",
              "        0.        , 0.        , 0.        , 0.        ],\n",
              "       [0.48747959, 0.59671827, 0.41990183, 0.20042517, 0.        ,\n",
              "        0.        , 0.        , 0.        , 0.        ],\n",
              "       [0.8315606 , 0.17596237, 0.51256465, 0.14520779, 0.76983017,\n",
              "        0.        , 0.        , 0.        , 0.        ],\n",
              "       [0.93215385, 0.51516598, 0.51981405, 0.99031294, 0.05161718,\n",
              "        0.83444273, 0.        , 0.        , 0.        ],\n",
              "       [0.07089948, 0.28062389, 0.55645362, 0.95537818, 0.20178777,\n",
              "        0.12650301, 0.29757541, 0.        , 0.        ],\n",
              "       [0.55672708, 0.69757552, 0.99477496, 0.42966391, 0.37804196,\n",
              "        0.78784103, 0.96990678, 0.73956431, 0.        ],\n",
              "       [0.3478617 , 0.36783767, 0.77435338, 0.98967599, 0.028185  ,\n",
              "        0.48899998, 0.85956844, 0.62359876, 0.87569985]])"
            ]
          },
          "metadata": {},
          "execution_count": 4
        }
      ],
      "source": [
        "def random_lower_triangular_matrix():\n",
        "    N = np.random.randint(low = 1, high = 10)\n",
        "    return np.tril(np.random.rand(N, N))\n",
        "random_lower_triangular_matrix()"
      ]
    },
    {
      "cell_type": "markdown",
      "metadata": {
        "id": "Sk5IHoW7B8W8"
      },
      "source": [
        "5) Генерация симметричной матрицы:"
      ]
    },
    {
      "cell_type": "code",
      "execution_count": 5,
      "metadata": {
        "colab": {
          "base_uri": "https://localhost:8080/"
        },
        "id": "MKcnJMB8B8W8",
        "outputId": "770be61f-cf40-45a6-d3cd-675b6dee1d37"
      },
      "outputs": [
        {
          "output_type": "execute_result",
          "data": {
            "text/plain": [
              "array([[0.07359277, 1.0456348 , 1.29372612],\n",
              "       [1.0456348 , 0.18477268, 0.97029193],\n",
              "       [1.29372612, 0.97029193, 0.03264882]])"
            ]
          },
          "metadata": {},
          "execution_count": 5
        }
      ],
      "source": [
        "def random_symmetric_matrix():\n",
        "    N = np.random.randint(low = 2, high = 10)\n",
        "    M = np.random.rand(N,N)\n",
        "    return M + M.T - np.diag(np.diagonal(M))\n",
        "random_symmetric_matrix()"
      ]
    },
    {
      "cell_type": "markdown",
      "metadata": {
        "id": "06OQ7X8PB8W9"
      },
      "source": [
        "6) Генерация вырожденной матрицы:"
      ]
    },
    {
      "cell_type": "code",
      "execution_count": 6,
      "metadata": {
        "colab": {
          "base_uri": "https://localhost:8080/"
        },
        "id": "askOiDa2B8W9",
        "outputId": "93d2bc12-af88-431f-f16e-20772458a7ad"
      },
      "outputs": [
        {
          "output_type": "stream",
          "name": "stdout",
          "text": [
            "Вырожденная матрица:  [[0.89451704 0.08554587 0.88615944]\n",
            " [0.84162528 0.42886038 0.7987049 ]\n",
            " [0.57871411 0.17146875 0.56162145]]\n",
            "Проверка детерминанта:  0.0\n"
          ]
        }
      ],
      "source": [
        "def random_degenerate_matrix():\n",
        "    N = np.random.randint(low = 2, high = 10)\n",
        "    M = np.random.rand(N-1,N)\n",
        "    last_string = np.sum(M, axis = 0) / N\n",
        "    return np.vstack([M, last_string]) \n",
        "A = random_degenerate_matrix()\n",
        "print(\"Вырожденная матрица: \", A)\n",
        "print(\"Проверка детерминанта: \", round(np.linalg.det(A), 16)) "
      ]
    },
    {
      "cell_type": "markdown",
      "metadata": {
        "id": "Wyyvn14HB8W-"
      },
      "source": [
        "**Комментарий:** как создать идеально точно, это уже сложный вопрос (машинное округление всё портит), но с точки\n",
        "зрения теории такой метод верен."
      ]
    },
    {
      "cell_type": "markdown",
      "metadata": {
        "id": "UfSADgxeB8W-"
      },
      "source": [
        "7) Генерация матрицы ступенчатого вида  $n\\times n$  ранга  $m$:"
      ]
    },
    {
      "cell_type": "code",
      "execution_count": 7,
      "metadata": {
        "colab": {
          "base_uri": "https://localhost:8080/"
        },
        "id": "WM5Ho-dTB8W-",
        "outputId": "2e40b721-b0b7-4821-98fa-57e7254da625"
      },
      "outputs": [
        {
          "output_type": "execute_result",
          "data": {
            "text/plain": [
              "array([[ 0.043508,  0.422001,  0.463694,  0.222502],\n",
              "       [ 0.      , -0.008967, -0.1477  , -0.134133],\n",
              "       [ 0.      ,  0.      ,  0.      ,  0.      ],\n",
              "       [ 0.      ,  0.      ,  0.      , -0.      ]])"
            ]
          },
          "metadata": {},
          "execution_count": 7
        }
      ],
      "source": [
        "from scipy.linalg import lu\n",
        "\n",
        "def random_step_matrix(n, m):\n",
        "    M =  np.triu(np.random.rand(n,n))\n",
        "    M1 = M[:-(n - m),:]\n",
        "    A = np.random.rand(n, m) #матрица коээфициентов\n",
        "    B = A @ M1 #матрица с рандомными коээфициентами ранга m\n",
        "    pl, u = lu(B, permute_l=True) #приведение к ступенчатому виду\n",
        "    return np.around(u,6)\n",
        "random_step_matrix(4, 2)"
      ]
    },
    {
      "cell_type": "markdown",
      "metadata": {
        "id": "fJF8rFoVB8W-"
      },
      "source": [
        "8) Генерация возмущения матрицы  $n\\times m$ , каждый элемент которой не превосходит по модулю заданный  $\\varepsilon$:"
      ]
    },
    {
      "cell_type": "code",
      "execution_count": 8,
      "metadata": {
        "colab": {
          "base_uri": "https://localhost:8080/"
        },
        "id": "1n0Tw8RSB8W_",
        "outputId": "8a4cf2ec-4ba2-446b-94aa-6eb5569f73b1"
      },
      "outputs": [
        {
          "output_type": "execute_result",
          "data": {
            "text/plain": [
              "array([[-0.00268171,  0.01776595, -0.04682903],\n",
              "       [-0.01367258,  0.05627566,  0.05641442],\n",
              "       [ 0.01916718,  0.00200222, -0.03594586],\n",
              "       [ 0.01276916, -0.01734234, -0.02945714]])"
            ]
          },
          "metadata": {},
          "execution_count": 8
        }
      ],
      "source": [
        "def disturbance_matrix(n, m , epsilon):\n",
        "    return epsilon * (np.random.rand(n,m) - np.random.rand(n,m))\n",
        "disturbance_matrix(4, 3, 0.1)"
      ]
    },
    {
      "cell_type": "markdown",
      "metadata": {
        "id": "p8-Wau8gB8W_"
      },
      "source": [
        "**Оценка вероятности:**\n",
        "\n",
        "Ясно, что в случае идеально точного подсчёта и работы с вещественными числами вероятность получения случайной вырожденной матриц равно нулю. Но ЭВМ не может производить подсчёты идеально точно, поэтому мы приходим к необходимости учёта машинного округления. Определитель по своей сути есть функция от $n^2$ членов матрицы. Будет работать в модели: погрешности элементов являются независимыми и случайными. Тогда относительную погрешность вычисления det можно грубо оценить как: $\\varepsilon = \\frac{\\Delta(det)}{det} = \\sqrt{\\delta(a_{11})^2 + \\delta(a_{12})^2 + ... + \\delta(a_{1n})^2 + \\delta(a_{21})^2 + ... + \\delta(a_{nn})^2}$, так как при вычислении определителя выполняются операции сложения и умножения. Можно оценить вероятность, сказав, что если значение определителя находится вблизи нуля в диапозоне $(-\\varepsilon, \\varepsilon)$, то матрица считается вырожденной. Таким образом, $w \\sim n\\delta$, где $\\delta$ - машинная точность. В Python для чисел типа float она составляет $\\delta = 2.2204460492503131\\cdot10^{-16}$. В любом случае, вероятность вырожденная остаётся очень маленькой величиной."
      ]
    },
    {
      "cell_type": "markdown",
      "metadata": {
        "id": "E7gN8OP9B8W_"
      },
      "source": [
        "**Оценка величины нормы:**\n",
        "\n",
        "Пусть $A$ - матрица возмущений. Воспользуемся нормой Фробениуса:\n",
        "$\\|A\\|_F = \\sqrt{\\sum\\limits_{i = 1}^{n}\\sum\\limits_{j = 1}^{m}|a_{ij}|^2} \\leq \\sqrt{\\sum\\limits_{i = 1}^{n}\\sum\\limits_{j = 1}^{m}\\varepsilon^2} = \\sqrt{nm}\\varepsilon$"
      ]
    },
    {
      "cell_type": "markdown",
      "metadata": {
        "id": "sS3EHa1aKmJi"
      },
      "source": [
        "# Задача 2. Эквивалентность первых двух норм.\n"
      ]
    },
    {
      "cell_type": "markdown",
      "metadata": {
        "id": "nMUUtmljQZO1"
      },
      "source": [
        "Найдите константы $C_1$  и  $C_2$ такие, что\n",
        "\n",
        "$\\ C_1||\\mathbf{x}||_2\\leq||\\mathbf{x}||_1\\leq C_2||\\mathbf{x}||_2$ \n",
        "\n",
        "\n",
        "Указание: в качестве подсказки можно использовать визуализацию норм из документа с теорией. "
      ]
    },
    {
      "cell_type": "markdown",
      "metadata": {
        "id": "yLRuwAveB8XA"
      },
      "source": [
        "**Решение:**\n",
        "\n",
        "Пусть имеется n-мерное векторное пространоство. $\\|x\\|_1 = |x_1| + |x_2| + ... + |x_n|. Возведём эту норму в квадрат: \\|x\\|_1^2 = |x_1|^2 + |x_2|^2 + ... + |x_n|^2 + C$, где $C > 0$ и представляет собой сумму всех перекрёстных членов. Отсюда:\n",
        "$\\|x\\|_1^2 = \\|x\\|_2^2 + C \\Rightarrow \\|x\\|_1 \\geq \\|x\\|_2 \\Rightarrow C_1 = 1$. Теперь воспользуемся тем фактом, что среднее квадратическое больше или равно среднему арифметическому: $\\sqrt{\\frac{x_1^2 + x_2^2 + ... + x_n^2}{n}} \\geq \\frac{|x_1| + |x_2| + ... + |x_n|}{n} \\Rightarrow \\|x\\|_1 \\leq \\sqrt{n}\\|x\\|_2 \\Rightarrow C_2 = \\sqrt{n}$\n",
        "\n",
        "**Итого:** $\\fbox{$C_1 = 1, C_2 = \\sqrt{n}$}$"
      ]
    },
    {
      "cell_type": "markdown",
      "metadata": {
        "id": "gpR6GBRtKmXq"
      },
      "source": [
        "# Задача 3.  Евклидова и бесконечная норма."
      ]
    },
    {
      "cell_type": "markdown",
      "metadata": {
        "id": "xQ7BfspuTsOt"
      },
      "source": [
        " Пусть x — вектор размерности m, а A — матрица m×n. Докажите следующие неравенства и приведите\n",
        "примеры таких x и A, при которых неравенства обращаются в равенства: \n",
        "\n",
        "- $\\|x\\|_2 \\leq \\sqrt{m}\\|x\\|_{\\infty}$\n",
        "- $\\|A\\|_{\\infty} \\leq \\sqrt{n}\\|A\\|_2$"
      ]
    },
    {
      "cell_type": "markdown",
      "metadata": {
        "id": "um_pXjPnB8XA"
      },
      "source": [
        "**Доказательство:**\n",
        "1) $\\|x\\|_2 = \\sqrt{x_1^2 + x_2^2 + ... + x_m^2} \\leq \\sqrt{|\\max\\limits_i x_i|^2 + |\\max\\limits_i x_i|^2 + ... + |\\max\\limits_i x_i|^2} = \\sqrt{m}\\|x\\|_{\\infty} \\Rightarrow \\fbox{$\\|x\\|_2 \\leq \\sqrt{m}\\|x\\|_{\\infty}$}$ \n",
        "\n",
        "**Пример:**, когда неравенство превращается в равеноство: $x = (1, 1, ..., 1)^{T}$\n",
        "\n",
        "\n",
        "2) $\\|\\mathbf{A}\\|_{\\infty}=\\max\\limits_{1\\leq i \\leq m}(\\sum\\limits_{j = 1}^{n}|a_{ij}|)$. Мы знаем, что эта матричная норма является подчинённой относительно векторной нормы $\\|.\\|_{\\infty}$. Поэтому:\n",
        "\n",
        "$\\|\\mathbf{A}\\|_{\\infty} = \\sup\\limits_{|\\mathbf{x}|\\neq 0}\\frac{||\\mathbf{A} \\mathbf{x}||_{\\infty}}{\\|\\mathbf{x}\\|_{\\infty}}(*)$. Покажем, что $\\|x\\|_2 \\geq \\|x\\|_{\\infty}$. Пусть $\\|x\\|_{\\infty} = x_k$. Тогда $\\|x\\|_2 = \\sqrt{x_1^2 + x_2^2 + ... + x_{k-1}^2 + x_k^2 + x_{k+1}^2 + ... + x_n^2} \\geq x_k$. С учетом первго пункта получаем: $\\|x\\|_{\\infty} \\leq \\|x\\|_2 \\leq \\sqrt{n}\\|x\\|_{\\infty}$. Теперь в $(*)$ заменим числитель на евклидову норму, а знаменатель на меньшее число $\\frac{1}{\\sqrt{n}}\\|x\\|_{\\infty}: \\|\\mathbf{A}\\|_{\\infty} \\leq \\sup\\limits_{|\\mathbf{x}|\\neq 0}\\frac{||\\mathbf{A} \\mathbf{x}||_2}{\\frac{1}{\\sqrt{n}}\\|\\mathbf{x}\\|_2} = \\sqrt{n}\\|\\mathbf{A}\\|_2$, так как матричная норма $\\|.\\|_2$ подчинена евклидовой векторной норме. $\\Rightarrow \\|\\mathbf{A}\\|_{\\infty} \\leq \\sqrt{n}\\|\\mathbf{A}\\|_2$\n",
        "\n",
        "**Пример:** когда неравенство превращается в равеноство: \n",
        "$A = \\left(\n",
        "\\begin{array}{cc}\n",
        "1& 1 \\\\\n",
        "0 & 0 \\\\\n",
        "\\end{array}\n",
        "\\right)$\n",
        "\n",
        "$\\|\\mathbf{A}\\|_2 = \\sqrt{\\lambda_{max}(\\mathbf{A}^T\\mathbf{A})} = \\sqrt{\\lambda_{max}\n",
        "\\left(\n",
        "\\begin{array}{cc}\n",
        "1& 1 \\\\\n",
        "1 & 1 \\\\\n",
        "\\end{array}\n",
        "\\right\n",
        ")} = \\sqrt{2}$. Очевидно, что $\\|\\mathbf{A}\\|_{\\infty} = 2 \\leq \\sqrt{n}\\|\\mathbf{A}\\|_2 = 2$"
      ]
    },
    {
      "cell_type": "markdown",
      "metadata": {
        "id": "8-476ZEtKmk5"
      },
      "source": [
        "# Задача 4. Норма Фробениуса."
      ]
    },
    {
      "cell_type": "markdown",
      "metadata": {
        "id": "xzG3RPf-T07c"
      },
      "source": [
        "Докажите, что для любой унитарной матрицы U (и для произвольной матрицы A) имеет место равенство\n",
        "\n",
        " $∥UA∥_F = ∥AU∥_F = ∥A∥_F$ , \n",
        " \n",
        " где $∥ ∥_F$ — норма Фробениуса.\n",
        "\n",
        "Указание.  \n",
        "Задачу можно решить без вычислений, если использовать геометрический смысл нормы Фробениуса и геометрические свойства умножения на унитарную матрицу (что при умножении на неё сохраняется). "
      ]
    },
    {
      "cell_type": "markdown",
      "metadata": {
        "id": "sHlg4OHaB8XB"
      },
      "source": [
        "**Решение:**\n",
        "\n",
        "Представим столбцы матрицы $A$ как векторы из унитарного пространства. Как известно, домножение на унитарную матрицу как слева, так и справа поворачивает эти вектора с сохранением нормы каждого. То есть сумма норм столбцов новой матрицы совпадает с таковой в исходной матрице. \n",
        "Норма Фробениуса есть корень из суммы квадратов модулей всех элементов, что равняется сумме норм этих векторов. С учётом предыдущих рассуждений: $∥UA∥_F = ∥AU∥_F = ∥A∥_F$."
      ]
    },
    {
      "cell_type": "markdown",
      "metadata": {
        "id": "s8jGlqhJKmpB"
      },
      "source": [
        "# Задача 5. Тензорная свёртка. "
      ]
    },
    {
      "cell_type": "markdown",
      "metadata": {
        "id": "smdRrcYuT4he"
      },
      "source": [
        "Рассмотрим функцию, отображающую шесть тензоров на один тензор: $Z\\left(\\lambda^{(1)}, \\lambda^{(2)}, \\lambda^{(3)}, \\Gamma^{(1)}, \\Gamma^{(2)}, U\\right)$ :\n",
        "\n",
        "\n",
        "$$\n",
        "Z_{a h i j}=\\sum_{b c d e f g} \\lambda^{(1)}{ }_{a b} \\Gamma_{c b d}^{(1)} \\lambda^{(2)}{ }_{d e} \\Gamma_{f e g}^{(2)} \\lambda_{g h}^{(3)} U_{i j c f}\n",
        "$$ \n",
        "\n",
        "редположив, что все индексы пробегают значения от 1 до χ, проведите эксперимент и сравните скорость\n",
        "различных реализаций функции Z. Исследуйте значения χ в диапазоне 3–50. \n",
        "\n",
        "\n",
        "- В файле convolution. ipynb вы можете найти релизацию глупого способа вычисления этой свертки, который требует $\\chi^4 \\times \\chi^6=\\chi^{10}$ операций. На самом деле это можно вычислить гораздо быстрее!\n",
        "- С помощью функции numpy . einsum (нужно использовать аргумент optimize), можно добиться намного большей производительности. Чтобы понять, что происходит под капотом, воспользуйтесь функцией numpy.einsum_path. Какое минимальное количество операций требуется для вычисления $Z$ ?\n",
        "- Посмотрев на вывод функции numpy.einsum_path, peализуйте алгоритм для вычисления $Z$, который столь же эффективен, как numpy.einsum, но использует более элементарные numpy.dot и numpy.tensor_dot."
      ]
    },
    {
      "cell_type": "markdown",
      "metadata": {
        "id": "_1Mw9bHMB8XB"
      },
      "source": [
        "**Решение:**\n",
        "\n",
        "Создадим массивы, как в файле convolution.ipynb: "
      ]
    },
    {
      "cell_type": "code",
      "execution_count": 9,
      "metadata": {
        "id": "4WVY0oXxB8XC"
      },
      "outputs": [],
      "source": [
        "с = 5"
      ]
    },
    {
      "cell_type": "code",
      "execution_count": 10,
      "metadata": {
        "id": "REXpRz_6B8XC"
      },
      "outputs": [],
      "source": [
        "np.random.seed(42)\n",
        "lambda1 = np.random.normal(size=(с, с))\n",
        "lambda2 = np.random.normal(size=(с, с))\n",
        "lambda3 = np.random.normal(size=(с, с))\n",
        "G1 = np.random.normal(size=(с, с, с))\n",
        "G2 = np.random.normal(size=(с, с, с))\n",
        "U = np.random.normal(size=(с, с, с, с))"
      ]
    },
    {
      "cell_type": "markdown",
      "metadata": {
        "id": "hqxqgFMIB8XC"
      },
      "source": [
        "Проанализируем алгоритм оптимизации с помощью numpy.einsum_path:"
      ]
    },
    {
      "cell_type": "code",
      "execution_count": 11,
      "metadata": {
        "id": "atzMthDnB8XC"
      },
      "outputs": [],
      "source": [
        "path_info = np.einsum_path('ab, cbd, de, feg, gh, ijcf -> ahij', lambda1, G1, lambda2, G2, lambda3, U, optimize='greedy')"
      ]
    },
    {
      "cell_type": "code",
      "execution_count": 12,
      "metadata": {
        "colab": {
          "base_uri": "https://localhost:8080/"
        },
        "id": "KZBCrra0B8XC",
        "outputId": "3718bbe7-603c-45c2-8064-523d056499c2"
      },
      "outputs": [
        {
          "output_type": "stream",
          "name": "stdout",
          "text": [
            "['einsum_path', (0, 1), (0, 1), (0, 3), (1, 2), (0, 1)]\n"
          ]
        }
      ],
      "source": [
        "print(path_info[0])"
      ]
    },
    {
      "cell_type": "code",
      "execution_count": 13,
      "metadata": {
        "colab": {
          "base_uri": "https://localhost:8080/"
        },
        "id": "G0H4GFJmB8XD",
        "outputId": "ae7871f8-10c7-4cca-c8ce-0e976035553e"
      },
      "outputs": [
        {
          "output_type": "stream",
          "name": "stdout",
          "text": [
            "  Complete contraction:  ab,cbd,de,feg,gh,ijcf->ahij\n",
            "         Naive scaling:  10\n",
            "     Optimized scaling:  6\n",
            "      Naive FLOP count:  5.859e+07\n",
            "  Optimized FLOP count:  4.125e+04\n",
            "   Theoretical speedup:  1420.420\n",
            "  Largest intermediate:  6.250e+02 elements\n",
            "--------------------------------------------------------------------------\n",
            "scaling                  current                                remaining\n",
            "--------------------------------------------------------------------------\n",
            "   4                 cbd,ab->acd                 de,feg,gh,ijcf,acd->ahij\n",
            "   4                 feg,de->dfg                    gh,ijcf,acd,dfg->ahij\n",
            "   4                 dfg,gh->dfh                       ijcf,acd,dfh->ahij\n",
            "   5               dfh,acd->acfh                          ijcf,acfh->ahij\n",
            "   6             acfh,ijcf->ahij                               ahij->ahij\n"
          ]
        }
      ],
      "source": [
        "print(path_info[1])"
      ]
    },
    {
      "cell_type": "markdown",
      "metadata": {
        "id": "74ro9DC-B8XD"
      },
      "source": [
        "Теперь воспользуемся np.einsum и замерим время выполнения свёрток:"
      ]
    },
    {
      "cell_type": "code",
      "execution_count": 26,
      "metadata": {
        "colab": {
          "base_uri": "https://localhost:8080/"
        },
        "id": "L2WPF9z8B8XD",
        "outputId": "ba81e5a1-5edc-4cb9-b702-f85196b93fa4"
      },
      "outputs": [
        {
          "output_type": "stream",
          "name": "stdout",
          "text": [
            "463 µs ± 34.5 µs per loop (mean ± std. dev. of 7 runs, 1000 loops each)\n"
          ]
        }
      ],
      "source": [
        "%%timeit\n",
        "Z = np.einsum('ab, cbd, de, feg, gh, ijcf -> ahij', lambda1, G1, lambda2, G2, lambda3, U, optimize='greedy')"
      ]
    },
    {
      "cell_type": "markdown",
      "source": [],
      "metadata": {
        "id": "c4Yw4VNYAKtO"
      }
    },
    {
      "cell_type": "markdown",
      "metadata": {
        "id": "Jyuqj1bTB8XD"
      },
      "source": [
        "Время, потраченное на ту же свертку файле convolution.ipynb составляет 23.4 s ± 562 ms (для с = 5). То есть np.einsum действительно даёт колоссальное преимущество.\n",
        "\n",
        "Также с помощью path_info[1] легко посчитать, что минимальное количество операций, требующееся для вычисления  $Z$ составляет $\\fbox{$N = 2(3\\chi^4 + \\chi^5 + \\chi^6)$}$."
      ]
    },
    {
      "cell_type": "markdown",
      "metadata": {
        "id": "FL0o5b4cB8XD"
      },
      "source": [
        "Теперь займёмся реализацией алгоритма подсчёта свёртки с помощью numpy.dot и numpy.tensor_dot, основываясь на path_info:"
      ]
    },
    {
      "cell_type": "code",
      "execution_count": 15,
      "metadata": {
        "id": "oGJeQGkIB8XE"
      },
      "outputs": [],
      "source": [
        "def own_sum(chi, lambda1, lambda2, lambda3, G1, G2, U):\n",
        "    A1 = np.tensordot(lambda1, G1, axes=([1],[1]))\n",
        "    A2 = np.tensordot(lambda2, G2, axes=([1],[1]))\n",
        "    A3 = np.tensordot(A2, lambda3, axes=([2],[0]))\n",
        "    A4 = np.tensordot(A3, A1, axes=([0],[2]))\n",
        "    A5 = np.tensordot(A4, U, axes=([1, 2],[2, 3]))\n",
        "    return A5"
      ]
    },
    {
      "cell_type": "code",
      "execution_count": 16,
      "metadata": {
        "colab": {
          "base_uri": "https://localhost:8080/"
        },
        "id": "XSGpJgb5B8XE",
        "outputId": "6a897968-2d56-4c3a-84d6-c24fe5a779f6"
      },
      "outputs": [
        {
          "output_type": "stream",
          "name": "stdout",
          "text": [
            "94 µs ± 2.09 µs per loop (mean ± std. dev. of 7 runs, 10000 loops each)\n"
          ]
        }
      ],
      "source": [
        "%%timeit\n",
        "Z_own = own_sum(5, lambda1, lambda2, lambda3, G1, G2, U)"
      ]
    },
    {
      "cell_type": "markdown",
      "metadata": {
        "id": "eKf0Oo9YB8XE"
      },
      "source": [
        "Видим, что по времени получилось даже лучше, чем с спользыванием np.einsum. Проверим совпадение массивов:"
      ]
    },
    {
      "cell_type": "markdown",
      "metadata": {
        "id": "ELyNroiIB8XE"
      },
      "source": [
        "Получилось полное совпадение, значит собственный код написан верно. Теперь сравним наш и библиотечный методы графически (наивный способ не учитываем, так как уже при $\\chi = 5$ время составляет десятки секунд):"
      ]
    },
    {
      "cell_type": "code",
      "execution_count": 29,
      "metadata": {
        "id": "ww7IEQGfB8XE"
      },
      "outputs": [],
      "source": [
        "from datetime import datetime\n",
        "Time_einsum = []\n",
        "Time_own = []\n",
        "for chi in range(3, 51, 1):\n",
        "    np.random.seed(42)\n",
        "    lambda1 = np.random.normal(size=(chi, chi))\n",
        "    lambda2 = np.random.normal(size=(chi, chi))\n",
        "    lambda3 = np.random.normal(size=(chi, chi))\n",
        "    G1 = np.random.normal(size=(chi, chi, chi))\n",
        "    G2 = np.random.normal(size=(chi, chi, chi))\n",
        "    U = np.random.normal(size=(chi, chi, chi, chi))\n",
        "    start_time1 = datetime.now()\n",
        "    Z = np.einsum('ab, cbd, de, feg, gh, ijcf -> ahij', lambda1, G1, lambda2, G2, lambda3, U, optimize='greedy')\n",
        "    Time_einsum.append((datetime.now() - start_time1).total_seconds())\n",
        "    start_time2 = datetime.now()\n",
        "    Z_own = own_sum(chi, lambda1, lambda2, lambda3, G1, G2, U)\n",
        "    Time_own.append((datetime.now() - start_time2).total_seconds())"
      ]
    },
    {
      "cell_type": "code",
      "execution_count": 30,
      "metadata": {
        "id": "gPBovjwKB8XF",
        "colab": {
          "base_uri": "https://localhost:8080/",
          "height": 515
        },
        "outputId": "bd39a056-5dc3-4956-ba86-c6b74afeaf8d"
      },
      "outputs": [
        {
          "output_type": "display_data",
          "data": {
            "text/plain": [
              "<Figure size 1152x576 with 1 Axes>"
            ],
            "image/png": "[encoded data removed]"
          },
          "metadata": {
            "needs_background": "light"
          }
        }
      ],
      "source": [
        "import matplotlib.pyplot as plt\n",
        "plt.figure(figsize=(16,8))\n",
        "x = np.arange(3, 51, 1)\n",
        "plt.xlabel(r'$\\chi$')\n",
        "plt.ylabel(\"Time, seconds\")\n",
        "plt.scatter(x, Time_einsum, marker='^', c = 'green', s=7, label=\"einsum\")\n",
        "plt.scatter(x, Time_own, marker='o', c = 'blue', s=7, label=\"ownsum\")\n",
        "plt.grid(True,linestyle=':')\n",
        "plt.title(\"Сравнение библиотечного и собственного методов подсчёта свёртки.\")\n",
        "plt.legend()\n",
        "plt.show()"
      ]
    },
    {
      "cell_type": "markdown",
      "metadata": {
        "id": "aobx_v5VB8XF"
      },
      "source": [
        "**Вывод:** наш метод практически совпадат по времени с библиотечной реализацией, причём даже для $\\chi = 50$ подсчёт составляет менее секунды, когда для наивного метода уже для $\\chi = 5$ время превышает 20 сек, то есть умная свёртка даёт невероятные результаты."
      ]
    },
    {
      "cell_type": "markdown",
      "metadata": {
        "id": "634QUTkyKnWR"
      },
      "source": [
        "# Задача 6.  k-means clustering. "
      ]
    },
    {
      "cell_type": "markdown",
      "metadata": {
        "id": "8gHzjikte83x"
      },
      "source": [
        "Выбор метрики (нормы разницы между любыми двумя векторами, или функции расстояния между любой парой точек) очень важен для многих алгоритмов машинного обучения. Рассмотрим на примере задачи кластеризации. \n",
        "\n",
        "Кластеризация — это разделение множества входных векторов на группы (кластеры) по степени «схожести» друг с другом.\n",
        "\n",
        "Кластеризация в Data Mining приобретает ценность тогда, когда она выступает одним из этапов анализа данных, построения законченного аналитического решения. Аналитику часто легче выделить группы схожих объектов, изучить их особенности и построить для каждой группы отдельную модель, чем создавать одну общую модель для всех данных. Таким приемом постоянно пользуются в маркетинге, выделяя группы клиентов, покупателей, товаров и разрабатывая для каждой из них отдельную стратегию.\n",
        "\n",
        "\n",
        "Евклидова метрика \n",
        "\n",
        "\n",
        "— наиболее распространенная. Она является геометрическим расстоянием в многомерном пространстве.\n",
        "\n",
        "\n",
        "Квадрат евклидовой метрики. \n",
        "\n",
        "\n",
        "Иногда может возникнуть желание возвести в квадрат стандартное евклидово расстояние, чтобы придать большие веса более отдаленным друг от друга объектам.\n",
        "\n",
        "\n",
        "Метрика городских кварталов (манхэттенская). \n",
        "\n",
        "\n",
        "Это расстояние является суммой модулей разностей координат. В большинстве случаев эта метрика приводит к таким же результатам, как и для обычного расстояния Евклида. Однако отметим, что для этой меры влияние отдельных больших разностей (выбросов) уменьшается (так как они не возводятся в квадрат).\n",
        "\n",
        "Расстояние Чебышева. \n",
        "\n",
        "Это метрика шахматной доски (Расстоянием Чебышёва между n-мерными числовыми векторами называется максимум модуля разности компонент этих векторов). Это расстояние может оказаться полезным, когда желают определить два объекта как «различные», если они различаются по какой-либо одной координате (каким-либо одним измерением).\n",
        "\n",
        "Расстояние Чебышёва называют также метрикой Чебышёва, равномерной метрикой, sup-метрикой и бокс-метрикой; также иногда она называется метрикой решётки, метрикой шахматной доски, метрикой хода короля и 8-метрикой.\n",
        "\n",
        "Степенная метрика. \n",
        "\n",
        "Иногда желают прогрессивно увеличить или уменьшить вес, относящийся к размерности, для которой соответствующие объекты сильно отличаются. Это может быть достигнуто с использованием степенного расстояния.\n",
        "\n",
        "\n",
        "Выбор метрики (критерия схожести) лежит полностью на исследователе. При выборе различных мер результаты кластеризации могут существенно отличаться.\n",
        "\n",
        "Алгоритм k-means (k-средних)\n",
        "\n",
        "Наиболее простой, но в то же время достаточно неточный метод кластеризации в классической реализации. Он разбивает множество элементов векторного пространства на заранее известное число кластеров k. Действие алгоритма таково, что он стремится минимизировать среднеквадратичное отклонение на точках каждого кластера. Основная идея заключается в том, что на каждой итерации перевычисляется центр масс для каждого кластера, полученного на предыдущем шаге, затем векторы разбиваются на кластеры вновь в соответствии с тем, какой из новых центров оказался ближе по выбранной метрике. Алгоритм завершается, когда на какой-то итерации не происходит изменения кластеров.\n",
        "\n",
        "Проблемы алгоритма k-means:\n",
        "* необходимо заранее знать количество кластеров. Мной было предложено метод определения количества кластеров, который основывался на нахождении кластеров, распределенных по некоему закону (в моем случае все сводилось к нормальному закону). После этого выполнялся классический алгоритм k-means, который давал более точные результаты.\n",
        "* алгоритм очень чувствителен к выбору начальных центров кластеров. Классический вариант подразумевает случайный выбор класторов, что очень часто являлось источником погрешности. Как вариант решения, необходимо проводить исследования объекта для более точного определения центров начальных кластеров. В моем случае на начальном этапе предлагается принимать в качестве центов самые отдаленные точки кластеров.\n",
        "* не справляется с задачей, когда объект принадлежит к разным кластерам в равной степени или не принадлежит ни одному.\n",
        "\n",
        "\n",
        "В блокноте kmeans.ipynb вы можете найти наивную реализацию.\n",
        "Изучите код, убедитесь, что вы его поняли. Вы найдете там две функции dist_i и dist_ij, которые\n",
        "(намеренно) реализованы довольно неэффективно. Улучшите их, избавившись от циклов с помощью век-\n",
        "торизации из numpy, и измерьте ускорение алгоритма в целом при N = 10000.\n",
        "\n",
        "\n",
        "\n",
        "\n",
        "\n",
        "\n"
      ]
    },
    {
      "cell_type": "markdown",
      "metadata": {
        "id": "7ibWf2IDB8XF"
      },
      "source": [
        "**Решение:**\n",
        "\n",
        "Разобравшись в коде, модернизируем обозначенные функции. Но предварительно перепишем код из kmeans.ipynb:"
      ]
    },
    {
      "cell_type": "code",
      "execution_count": 31,
      "metadata": {
        "id": "t3V647B8B8XG"
      },
      "outputs": [],
      "source": [
        "import numpy as np \n",
        "import matplotlib.pyplot as plt "
      ]
    },
    {
      "cell_type": "code",
      "execution_count": 32,
      "metadata": {
        "id": "kcpsSDFMB8XG"
      },
      "outputs": [],
      "source": [
        "def scatter_plot(data, col=None):\n",
        "    from mpl_toolkits.mplot3d import Axes3D \n",
        "    %matplotlib inline\n",
        "    fig = plt.figure()\n",
        "    ax = fig.add_subplot(111, projection='3d')\n",
        "    ax.scatter(data[:,0], data[:,1], data[:,2], s = 0.5, color=col)\n",
        "    plt.show()"
      ]
    },
    {
      "cell_type": "code",
      "execution_count": 33,
      "metadata": {
        "id": "vKZOvPz_B8XG"
      },
      "outputs": [],
      "source": [
        "N = 10000\n",
        "K = 3\n",
        "d = 3\n",
        "L = 10"
      ]
    },
    {
      "cell_type": "code",
      "execution_count": 34,
      "metadata": {
        "id": "URPeUCZvB8XG"
      },
      "outputs": [],
      "source": [
        "# Generate some data\n",
        "np.random.seed(42)\n",
        "mu_true = np.random.uniform(-L, L, size = (K, d))\n",
        "data = np.random.normal(mu_true, size = (N, K, d))\n",
        "data = np.vstack(data)\n",
        "np.random.shuffle(data)"
      ]
    },
    {
      "cell_type": "code",
      "execution_count": 35,
      "metadata": {
        "id": "1Ww4qqhuB8XG",
        "outputId": "d56ec3ed-da1a-4c0f-f5fb-33423d7213d4",
        "colab": {
          "base_uri": "https://localhost:8080/",
          "height": 248
        }
      },
      "outputs": [
        {
          "output_type": "display_data",
          "data": {
            "text/plain": [
              "<Figure size 432x288 with 1 Axes>"
            ],
            "image/png": "[encoded data removed]"
          },
          "metadata": {
            "needs_background": "light"
          }
        }
      ],
      "source": [
        "if d == 3:\n",
        "    scatter_plot(data, None)"
      ]
    },
    {
      "cell_type": "code",
      "execution_count": 36,
      "metadata": {
        "id": "XY7BAx0_B8XG"
      },
      "outputs": [],
      "source": [
        "mu1 = data[np.random.choice(range(data.shape[0]), K, replace=False)]\n",
        "mu2 = data[np.random.choice(range(data.shape[0]), K, replace=False)]\n",
        "c1 = np.random.randint(low=0, high=K-1, size=data.shape[0])\n",
        "c2 = np.random.randint(low=0, high=K-1, size=data.shape[0])"
      ]
    },
    {
      "cell_type": "code",
      "execution_count": 37,
      "metadata": {
        "id": "edjv2lICB8XG"
      },
      "outputs": [],
      "source": [
        "def dist_i(x, mu):\n",
        "    # x: N datapoints, mu: N cluster centers\n",
        "    # returns: D_{i}, squared distances from x[i] to mu[i]\n",
        "    dist = np.zeros(x.shape[0])\n",
        "    for i in range(x.shape[0]):\n",
        "        dist[i] = np.sum((x[i] - mu[i])**2)\n",
        "    return dist\n",
        "def dist_ij(x, mu):\n",
        "    # x: N datapoints, mu: K cluster centers\n",
        "    # returns: D_{ij}, squared distances from x[i] to mu[j]\n",
        "    dist = np.zeros((x.shape[0], mu.shape[0]))\n",
        "    for i in range(x.shape[0]):\n",
        "        for j in range(mu.shape[0]):\n",
        "            dist[i, j] += np.sum((x[i] - mu[j])**2)\n",
        "    return dist"
      ]
    },
    {
      "cell_type": "code",
      "execution_count": 38,
      "metadata": {
        "id": "JX_tgj-qB8XH"
      },
      "outputs": [],
      "source": [
        "def new_dist_i(x, mu):\n",
        "    # x: N datapoints, mu: N cluster centers\n",
        "    # returns: D_{i}, squared distances from x[i] to mu[i]\n",
        "    return np.sum((x - np.reshape(mu, (K * N, d))) ** 2, axis = 1) \n",
        "def new_dist_ij(x, mu):\n",
        "    # x: N datapoints, mu: K cluster centers\n",
        "    # returns: D_{ij}, squared distances from x[i] to mu[j]\n",
        "    return np.asarray(np.asmatrix(np.split(np.sum(np.reshape(np.hsplit((np.hstack([data] * K) - np.vstack([mu.reshape(1,  K * d)] * K * N)) ** 2,\n",
        "                                                            range(d, K * d, d)), (K * K * N, d)), axis = 1), K)).T)"
      ]
    },
    {
      "cell_type": "markdown",
      "metadata": {
        "id": "4GKBwmYKB8XH"
      },
      "source": [
        "Теперь проведём оценку времени при выполнении двумя способами:"
      ]
    },
    {
      "cell_type": "code",
      "execution_count": 39,
      "metadata": {
        "id": "PjJOxjmVB8XH",
        "outputId": "6106a2bc-c090-4501-c0af-47f63abf4803",
        "colab": {
          "base_uri": "https://localhost:8080/"
        }
      },
      "outputs": [
        {
          "output_type": "stream",
          "name": "stdout",
          "text": [
            "6.98 s ± 663 ms per loop (mean ± std. dev. of 7 runs, 1 loop each)\n"
          ]
        }
      ],
      "source": [
        "%%timeit\n",
        "# ss_list1 = []\n",
        "# ss1 = np.mean(dist_i(data, mu1[c1]))\n",
        "# ss_list1.append(ss1) \n",
        "for n in range(10):\n",
        "    c1 =  np.argmin(dist_ij(data, mu1), axis = 1)   \n",
        "    for i in range(K):\n",
        "        cluster_members = data[c1 == i]\n",
        "        cluster_members = cluster_members.mean(axis = 0)\n",
        "        mu1[i] = cluster_members"
      ]
    },
    {
      "cell_type": "code",
      "execution_count": 40,
      "metadata": {
        "id": "ap4eeIoTB8XH",
        "outputId": "03428081-6628-401d-865a-01a21d0a7fc4",
        "colab": {
          "base_uri": "https://localhost:8080/"
        }
      },
      "outputs": [
        {
          "output_type": "stream",
          "name": "stdout",
          "text": [
            "240 ms ± 5.63 ms per loop (mean ± std. dev. of 7 runs, 1 loop each)\n"
          ]
        }
      ],
      "source": [
        "%%timeit\n",
        "# ss_list2 = []\n",
        "# ss2 = np.mean(new_dist_i(data, mu2[c2]))\n",
        "# ss_list2.append(ss2)    \n",
        "for n in range(10):\n",
        "    c2 = np.argmin(new_dist_ij(data, mu2), axis = 1)\n",
        "    for i in range(K):\n",
        "        cluster_members = data[c2 == i]\n",
        "        cluster_members = cluster_members.mean(axis = 0)\n",
        "        mu2[i] = cluster_members"
      ]
    },
    {
      "cell_type": "markdown",
      "metadata": {
        "id": "WEPYNQo-B8XH"
      },
      "source": [
        "**Таким образом**, ускорение алгоритма составляет $\\approx 25000$.\n",
        "\n",
        "Сравним напоследок графики:"
      ]
    },
    {
      "cell_type": "code",
      "execution_count": 41,
      "metadata": {
        "id": "72onoqn0B8XH"
      },
      "outputs": [],
      "source": [
        "mu1 = data[np.random.choice(range(data.shape[0]), K, replace=False)]\n",
        "mu2 = data[np.random.choice(range(data.shape[0]), K, replace=False)]\n",
        "c1 = np.random.randint(low=0, high=K-1, size=data.shape[0])\n",
        "c2 = np.random.randint(low=0, high=K-1, size=data.shape[0])"
      ]
    },
    {
      "cell_type": "code",
      "execution_count": 42,
      "metadata": {
        "id": "peZYx2sCB8XH"
      },
      "outputs": [],
      "source": [
        "ss_list1 = []\n",
        "for n in range(10):\n",
        "    c1 =  np.argmin(dist_ij(data, mu1), axis = 1)   \n",
        "    ss1 = np.mean(dist_i(data, mu1[c1]))\n",
        "    ss_list1.append(ss1) \n",
        "    for i in range(K):\n",
        "        cluster_members = data[c1 == i]\n",
        "        cluster_members = cluster_members.mean(axis = 0)\n",
        "        mu1[i] = cluster_members"
      ]
    },
    {
      "cell_type": "code",
      "execution_count": 43,
      "metadata": {
        "id": "vlR97v5lB8XI"
      },
      "outputs": [],
      "source": [
        "ss_list2 = [] \n",
        "for n in range(10):\n",
        "    c2 = np.argmin(new_dist_ij(data, mu2), axis = 1)\n",
        "    ss2 = np.mean(new_dist_i(data, mu2[c2]))\n",
        "    ss_list2.append(ss2)   \n",
        "    for i in range(K):\n",
        "        cluster_members = data[c2 == i]\n",
        "        cluster_members = cluster_members.mean(axis = 0)\n",
        "        mu2[i] = cluster_members"
      ]
    },
    {
      "cell_type": "code",
      "execution_count": 44,
      "metadata": {
        "id": "DAvpe2DCB8XI",
        "outputId": "4bbc7ab9-2f78-498f-f97a-3173f42523b0",
        "colab": {
          "base_uri": "https://localhost:8080/",
          "height": 497
        }
      },
      "outputs": [
        {
          "output_type": "display_data",
          "data": {
            "text/plain": [
              "<Figure size 1152x576 with 2 Axes>"
            ],
            "image/png": "[encoded data removed]"
          },
          "metadata": {
            "needs_background": "light"
          }
        }
      ],
      "source": [
        "\n",
        "plt.figure(figsize=(16, 8))\n",
        "plt.subplot(1,2,1)\n",
        "plt.xlabel(n)\n",
        "plt.ylabel(\"Среднее расстояние точек до центров своих кластеров\")\n",
        "plt.plot(ss_list1, label=\"циклы\", color = \"green\")\n",
        "plt.legend()\n",
        "plt.subplot(1,2,2)\n",
        "plt.xlabel(n)\n",
        "plt.ylabel(\"Среднее расстояние точек до центров своих кластеров\")\n",
        "plt.plot(ss_list2, label=\"numpy\")\n",
        "plt.legend()\n",
        "plt.show()"
      ]
    },
    {
      "cell_type": "code",
      "execution_count": 45,
      "metadata": {
        "id": "ItNEXeuzB8XI"
      },
      "outputs": [],
      "source": [
        "colors = np.array([plt.cm.cool(i/(K-1)) for i in range(K)])"
      ]
    },
    {
      "cell_type": "code",
      "execution_count": 46,
      "metadata": {
        "id": "Qpz2LkB9B8XI",
        "outputId": "f17dd06e-f29e-44ae-e41a-732ca95b0c03",
        "colab": {
          "base_uri": "https://localhost:8080/",
          "height": 514
        }
      },
      "outputs": [
        {
          "output_type": "stream",
          "name": "stdout",
          "text": [
            "Циклы:\n"
          ]
        },
        {
          "output_type": "display_data",
          "data": {
            "text/plain": [
              "<Figure size 432x288 with 1 Axes>"
            ],
            "image/png": "[encoded data removed]"
          },
          "metadata": {
            "needs_background": "light"
          }
        },
        {
          "output_type": "stream",
          "name": "stdout",
          "text": [
            "Numpy:\n"
          ]
        },
        {
          "output_type": "display_data",
          "data": {
            "text/plain": [
              "<Figure size 432x288 with 1 Axes>"
            ],
            "image/png": "[encoded data removed]"
          },
          "metadata": {
            "needs_background": "light"
          }
        }
      ],
      "source": [
        "if d == 3:\n",
        "    print(\"Циклы:\")\n",
        "    scatter_plot(data, colors[c1])\n",
        "    print(\"Numpy:\")\n",
        "    scatter_plot(data, colors[c2])"
      ]
    },
    {
      "cell_type": "markdown",
      "metadata": {
        "id": "gKnAIng1T-Ex"
      },
      "source": [
        "# Дополнительное задание. Нечеткий алгоритм кластеризации с-means.\n"
      ]
    },
    {
      "cell_type": "markdown",
      "metadata": {
        "id": "umU-jwFAT7nj"
      },
      "source": [
        "С последней проблемой k-means успешно справляется алгоритм с-means. Вместо однозначного ответа на вопрос к какому кластеру относится объект, он определяет вероятность того, что объект принадлежит к тому или иному кластеру. Таким образом, утверждение «объект А принадлежит к кластеру 1 с вероятностью 90%, к кластеру 2 — 10% » верно и более удобно.\n",
        "\n",
        "Остальные проблемы у с-means такие же, как у k-means, но они нивелируются благодаря нечеткости разбиения.\n",
        "\n",
        "Метод нечеткой кластеризации C-средних имеет ограниченное применение из-за существенного недостатка — невозможность корректного разбиения на кластеры, в случае когда кластеры имеют различную дисперсию по различным размерностям (осям) элементов (например, кластер имеет форму эллипса). Данный недостаток устранен в алгоритмах Mixture models и GMM (Gaussian mixture models). \n",
        "\n",
        "\n",
        "Документация методов кластеризации для sklearn есть здесь https://scikit-learn.org/stable/modules/clustering.html#k-means . \n",
        "\n",
        "\n",
        "\n",
        "Используя библиотеку scikit-learn, реализуйте Gaussian mixture models и обычный k-means.  Подберите такой набор данных, на котором первый метод справляется хорошо, а второй метод даёт плохие результаты, и продемонстрируйте это. Сделайте это для нескольких разных метрик и сравните результаты между собой.\n",
        "\n",
        "https://scikit-learn.ru/example/  примеры подобного.\n",
        "\n",
        "https://neurohive.io/ru/osnovy-data-science/vvedenie-v-scikit-learn/  введение в sklearn. На этом сайте много полезных статей и ссылок на курсы. "
      ]
    }
  ],
  "metadata": {
    "colab": {
      "collapsed_sections": [
        "MeXTSdSfKdL2",
        "sS3EHa1aKmJi",
        "gpR6GBRtKmXq",
        "8-476ZEtKmk5",
        "s8jGlqhJKmpB",
        "634QUTkyKnWR",
        "gKnAIng1T-Ex"
      ],
      "provenance": [],
      "include_colab_link": true
    },
    "kernelspec": {
      "display_name": "Python 3 (ipykernel)",
      "language": "python",
      "name": "python3"
    },
    "language_info": {
      "codemirror_mode": {
        "name": "ipython",
        "version": 3
      },
      "file_extension": ".py",
      "mimetype": "text/x-python",
      "name": "python",
      "nbconvert_exporter": "python",
      "pygments_lexer": "ipython3",
      "version": "3.9.12"
    }
  },
  "nbformat": 4,
  "nbformat_minor": 0
}